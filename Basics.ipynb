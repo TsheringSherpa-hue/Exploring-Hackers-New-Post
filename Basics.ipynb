{
 "cells": [
  {
   "cell_type": "markdown",
   "metadata": {
    "collapsed": true
   },
   "source": [
    "# Exploring Hackers New Post\n",
    "\n",
    "In this project, we'll compare two different types of posts from Hacker News, a popular site where technology related stories (or 'posts') are voted and commented upon. The two types of posts we'll explore begin with either Ask HN or Show HN.\n",
    "\n",
    "Users submit Ask HN posts to ask the Hacker News community a specific question, such as \"What is the best online course you've ever taken?\" Likewise, users submit Show HN posts to show the Hacker News community a project, product, or just generally something interesting.\n",
    "\n",
    "We'll specifically compare these two types of posts to determine the following:\n",
    "\n",
    "1. Do Ask HN or Show HN receive more comments on average?\n",
    "2. Do posts created at a certain time receive more comments on average?\n",
    "\n",
    "It should be noted that the data set we're working with was reduced from almost 300,000 rows to approximately 20,000 rows by removing all submissions that did not receive any comments, and then randomly sampling from the remaining submissions."
   ]
  },
  {
   "cell_type": "markdown",
   "metadata": {},
   "source": [
    "## Introduction\n",
    "\n",
    "First, we'll read in the data and set an index."
   ]
  },
  {
   "cell_type": "code",
   "execution_count": 1,
   "metadata": {},
   "outputs": [],
   "source": [
    "#to disable warnings\n",
    "import warnings\n",
    "warnings.filterwarnings('ignore')"
   ]
  },
  {
   "cell_type": "code",
   "execution_count": 2,
   "metadata": {},
   "outputs": [
    {
     "data": {
      "text/html": [
       "<div>\n",
       "<style scoped>\n",
       "    .dataframe tbody tr th:only-of-type {\n",
       "        vertical-align: middle;\n",
       "    }\n",
       "\n",
       "    .dataframe tbody tr th {\n",
       "        vertical-align: top;\n",
       "    }\n",
       "\n",
       "    .dataframe thead th {\n",
       "        text-align: right;\n",
       "    }\n",
       "</style>\n",
       "<table border=\"1\" class=\"dataframe\">\n",
       "  <thead>\n",
       "    <tr style=\"text-align: right;\">\n",
       "      <th></th>\n",
       "      <th>title</th>\n",
       "      <th>url</th>\n",
       "      <th>num_points</th>\n",
       "      <th>num_comments</th>\n",
       "      <th>author</th>\n",
       "      <th>created_at</th>\n",
       "    </tr>\n",
       "    <tr>\n",
       "      <th>id</th>\n",
       "      <th></th>\n",
       "      <th></th>\n",
       "      <th></th>\n",
       "      <th></th>\n",
       "      <th></th>\n",
       "      <th></th>\n",
       "    </tr>\n",
       "  </thead>\n",
       "  <tbody>\n",
       "    <tr>\n",
       "      <td>12224879</td>\n",
       "      <td>Interactive Dynamic Video</td>\n",
       "      <td>http://www.interactivedynamicvideo.com/</td>\n",
       "      <td>386</td>\n",
       "      <td>52</td>\n",
       "      <td>ne0phyte</td>\n",
       "      <td>8/4/2016 11:52</td>\n",
       "    </tr>\n",
       "    <tr>\n",
       "      <td>10975351</td>\n",
       "      <td>How to Use Open Source and Shut the Fuck Up at...</td>\n",
       "      <td>http://hueniverse.com/2016/01/26/how-to-use-op...</td>\n",
       "      <td>39</td>\n",
       "      <td>10</td>\n",
       "      <td>josep2</td>\n",
       "      <td>1/26/2016 19:30</td>\n",
       "    </tr>\n",
       "    <tr>\n",
       "      <td>11964716</td>\n",
       "      <td>Florida DJs May Face Felony for April Fools' W...</td>\n",
       "      <td>http://www.thewire.com/entertainment/2013/04/f...</td>\n",
       "      <td>2</td>\n",
       "      <td>1</td>\n",
       "      <td>vezycash</td>\n",
       "      <td>6/23/2016 22:20</td>\n",
       "    </tr>\n",
       "    <tr>\n",
       "      <td>11919867</td>\n",
       "      <td>Technology ventures: From Idea to Enterprise</td>\n",
       "      <td>https://www.amazon.com/Technology-Ventures-Ent...</td>\n",
       "      <td>3</td>\n",
       "      <td>1</td>\n",
       "      <td>hswarna</td>\n",
       "      <td>6/17/2016 0:01</td>\n",
       "    </tr>\n",
       "    <tr>\n",
       "      <td>10301696</td>\n",
       "      <td>Note by Note: The Making of Steinway L1037 (2007)</td>\n",
       "      <td>http://www.nytimes.com/2007/11/07/movies/07ste...</td>\n",
       "      <td>8</td>\n",
       "      <td>2</td>\n",
       "      <td>walterbell</td>\n",
       "      <td>9/30/2015 4:12</td>\n",
       "    </tr>\n",
       "  </tbody>\n",
       "</table>\n",
       "</div>"
      ],
      "text/plain": [
       "                                                      title  \\\n",
       "id                                                            \n",
       "12224879                          Interactive Dynamic Video   \n",
       "10975351  How to Use Open Source and Shut the Fuck Up at...   \n",
       "11964716  Florida DJs May Face Felony for April Fools' W...   \n",
       "11919867       Technology ventures: From Idea to Enterprise   \n",
       "10301696  Note by Note: The Making of Steinway L1037 (2007)   \n",
       "\n",
       "                                                        url  num_points  \\\n",
       "id                                                                        \n",
       "12224879            http://www.interactivedynamicvideo.com/         386   \n",
       "10975351  http://hueniverse.com/2016/01/26/how-to-use-op...          39   \n",
       "11964716  http://www.thewire.com/entertainment/2013/04/f...           2   \n",
       "11919867  https://www.amazon.com/Technology-Ventures-Ent...           3   \n",
       "10301696  http://www.nytimes.com/2007/11/07/movies/07ste...           8   \n",
       "\n",
       "          num_comments      author       created_at  \n",
       "id                                                   \n",
       "12224879            52    ne0phyte   8/4/2016 11:52  \n",
       "10975351            10      josep2  1/26/2016 19:30  \n",
       "11964716             1    vezycash  6/23/2016 22:20  \n",
       "11919867             1     hswarna   6/17/2016 0:01  \n",
       "10301696             2  walterbell   9/30/2015 4:12  "
      ]
     },
     "execution_count": 2,
     "metadata": {},
     "output_type": "execute_result"
    }
   ],
   "source": [
    "import pandas as pd\n",
    "file=pd.read_csv('hacker_news.csv',index_col='id') #sets 'id' column as index\n",
    "file.head()"
   ]
  },
  {
   "cell_type": "markdown",
   "metadata": {},
   "source": [
    "In the above tabe, the date of creation i.e. 'created_at' column is in string format. Let's convert it into datetime object."
   ]
  },
  {
   "cell_type": "code",
   "execution_count": 3,
   "metadata": {},
   "outputs": [],
   "source": [
    "file['created_at']=pd.to_datetime(file['created_at'])"
   ]
  },
  {
   "cell_type": "markdown",
   "metadata": {},
   "source": [
    "## Extracting Ask HN and Show HN Posts\n",
    "\n",
    "First, we'll identify posts that begin with either Ask HN or Show HN and separate the data for those two types of posts into different datasets.Separating the data makes it easier to analyze ."
   ]
  },
  {
   "cell_type": "code",
   "execution_count": 4,
   "metadata": {},
   "outputs": [],
   "source": [
    "#Separating ask hn posts \n",
    "ask=file['title'].str.lower().str.startswith('ask hn')\n",
    "ask_posts=file[ask] #contains dataset having only ask hn posts\n",
    "\n",
    "#Separating show hn post\n",
    "show=file['title'].str.lower().str.startswith('show hn')\n",
    "show_posts=file[show] #contains dataset having only ask hn posts"
   ]
  },
  {
   "cell_type": "code",
   "execution_count": 5,
   "metadata": {},
   "outputs": [
    {
     "data": {
      "text/html": [
       "<div>\n",
       "<style scoped>\n",
       "    .dataframe tbody tr th:only-of-type {\n",
       "        vertical-align: middle;\n",
       "    }\n",
       "\n",
       "    .dataframe tbody tr th {\n",
       "        vertical-align: top;\n",
       "    }\n",
       "\n",
       "    .dataframe thead th {\n",
       "        text-align: right;\n",
       "    }\n",
       "</style>\n",
       "<table border=\"1\" class=\"dataframe\">\n",
       "  <thead>\n",
       "    <tr style=\"text-align: right;\">\n",
       "      <th></th>\n",
       "      <th>title</th>\n",
       "      <th>url</th>\n",
       "      <th>num_points</th>\n",
       "      <th>num_comments</th>\n",
       "      <th>author</th>\n",
       "      <th>created_at</th>\n",
       "    </tr>\n",
       "    <tr>\n",
       "      <th>id</th>\n",
       "      <th></th>\n",
       "      <th></th>\n",
       "      <th></th>\n",
       "      <th></th>\n",
       "      <th></th>\n",
       "      <th></th>\n",
       "    </tr>\n",
       "  </thead>\n",
       "  <tbody>\n",
       "    <tr>\n",
       "      <td>12296411</td>\n",
       "      <td>Ask HN: How to improve my personal website?</td>\n",
       "      <td>NaN</td>\n",
       "      <td>2</td>\n",
       "      <td>6</td>\n",
       "      <td>ahmedbaracat</td>\n",
       "      <td>2016-08-16 09:55:00</td>\n",
       "    </tr>\n",
       "    <tr>\n",
       "      <td>10610020</td>\n",
       "      <td>Ask HN: Am I the only one outraged by Twitter ...</td>\n",
       "      <td>NaN</td>\n",
       "      <td>28</td>\n",
       "      <td>29</td>\n",
       "      <td>tkfx</td>\n",
       "      <td>2015-11-22 13:43:00</td>\n",
       "    </tr>\n",
       "    <tr>\n",
       "      <td>11610310</td>\n",
       "      <td>Ask HN: Aby recent changes to CSS that broke m...</td>\n",
       "      <td>NaN</td>\n",
       "      <td>1</td>\n",
       "      <td>1</td>\n",
       "      <td>polskibus</td>\n",
       "      <td>2016-05-02 10:14:00</td>\n",
       "    </tr>\n",
       "    <tr>\n",
       "      <td>12210105</td>\n",
       "      <td>Ask HN: Looking for Employee #3 How do I do it?</td>\n",
       "      <td>NaN</td>\n",
       "      <td>1</td>\n",
       "      <td>3</td>\n",
       "      <td>sph130</td>\n",
       "      <td>2016-08-02 14:20:00</td>\n",
       "    </tr>\n",
       "    <tr>\n",
       "      <td>10394168</td>\n",
       "      <td>Ask HN: Someone offered to buy my browser exte...</td>\n",
       "      <td>NaN</td>\n",
       "      <td>28</td>\n",
       "      <td>17</td>\n",
       "      <td>roykolak</td>\n",
       "      <td>2015-10-15 16:38:00</td>\n",
       "    </tr>\n",
       "  </tbody>\n",
       "</table>\n",
       "</div>"
      ],
      "text/plain": [
       "                                                      title  url  num_points  \\\n",
       "id                                                                             \n",
       "12296411        Ask HN: How to improve my personal website?  NaN           2   \n",
       "10610020  Ask HN: Am I the only one outraged by Twitter ...  NaN          28   \n",
       "11610310  Ask HN: Aby recent changes to CSS that broke m...  NaN           1   \n",
       "12210105    Ask HN: Looking for Employee #3 How do I do it?  NaN           1   \n",
       "10394168  Ask HN: Someone offered to buy my browser exte...  NaN          28   \n",
       "\n",
       "          num_comments        author          created_at  \n",
       "id                                                        \n",
       "12296411             6  ahmedbaracat 2016-08-16 09:55:00  \n",
       "10610020            29          tkfx 2015-11-22 13:43:00  \n",
       "11610310             1     polskibus 2016-05-02 10:14:00  \n",
       "12210105             3        sph130 2016-08-02 14:20:00  \n",
       "10394168            17      roykolak 2015-10-15 16:38:00  "
      ]
     },
     "execution_count": 5,
     "metadata": {},
     "output_type": "execute_result"
    }
   ],
   "source": [
    "ask_posts.head()"
   ]
  },
  {
   "cell_type": "markdown",
   "metadata": {},
   "source": [
    "## Calculating the Average Number of Comments for Ask HN and Show HN Posts\n",
    "\n",
    "Now that we separated ask posts and show posts into different datasets, we'll calculate the average number of comments each type of post receives."
   ]
  },
  {
   "cell_type": "code",
   "execution_count": 6,
   "metadata": {},
   "outputs": [
    {
     "data": {
      "text/plain": [
       "14.038417431192661"
      ]
     },
     "metadata": {},
     "output_type": "display_data"
    },
    {
     "data": {
      "text/plain": [
       "10.31669535283993"
      ]
     },
     "execution_count": 6,
     "metadata": {},
     "output_type": "execute_result"
    }
   ],
   "source": [
    "#Displays average number of comments ask post receives\n",
    "display(ask_posts.num_comments.mean())\n",
    "\n",
    "#Displays average number of comments show post receives\n",
    "show_posts.num_comments.mean()"
   ]
  },
  {
   "cell_type": "markdown",
   "metadata": {},
   "source": [
    "On average, ask posts in our sample receive approximately 14 comments, whereas show posts receive approximately 10. Since ask posts are more likely to receive comments, we'll focus our remaining analysis just on these posts."
   ]
  },
  {
   "cell_type": "markdown",
   "metadata": {},
   "source": [
    "## Calculating the Average Number of Comments for Ask HN Posts by Hour\n",
    "\n",
    "First,we'll format the date and time into hour format. "
   ]
  },
  {
   "cell_type": "code",
   "execution_count": 7,
   "metadata": {},
   "outputs": [
    {
     "data": {
      "text/html": [
       "<div>\n",
       "<style scoped>\n",
       "    .dataframe tbody tr th:only-of-type {\n",
       "        vertical-align: middle;\n",
       "    }\n",
       "\n",
       "    .dataframe tbody tr th {\n",
       "        vertical-align: top;\n",
       "    }\n",
       "\n",
       "    .dataframe thead th {\n",
       "        text-align: right;\n",
       "    }\n",
       "</style>\n",
       "<table border=\"1\" class=\"dataframe\">\n",
       "  <thead>\n",
       "    <tr style=\"text-align: right;\">\n",
       "      <th></th>\n",
       "      <th>title</th>\n",
       "      <th>url</th>\n",
       "      <th>num_points</th>\n",
       "      <th>num_comments</th>\n",
       "      <th>author</th>\n",
       "      <th>created_at</th>\n",
       "    </tr>\n",
       "    <tr>\n",
       "      <th>id</th>\n",
       "      <th></th>\n",
       "      <th></th>\n",
       "      <th></th>\n",
       "      <th></th>\n",
       "      <th></th>\n",
       "      <th></th>\n",
       "    </tr>\n",
       "  </thead>\n",
       "  <tbody>\n",
       "    <tr>\n",
       "      <td>12296411</td>\n",
       "      <td>Ask HN: How to improve my personal website?</td>\n",
       "      <td>NaN</td>\n",
       "      <td>2</td>\n",
       "      <td>6</td>\n",
       "      <td>ahmedbaracat</td>\n",
       "      <td>09</td>\n",
       "    </tr>\n",
       "    <tr>\n",
       "      <td>10610020</td>\n",
       "      <td>Ask HN: Am I the only one outraged by Twitter ...</td>\n",
       "      <td>NaN</td>\n",
       "      <td>28</td>\n",
       "      <td>29</td>\n",
       "      <td>tkfx</td>\n",
       "      <td>13</td>\n",
       "    </tr>\n",
       "    <tr>\n",
       "      <td>11610310</td>\n",
       "      <td>Ask HN: Aby recent changes to CSS that broke m...</td>\n",
       "      <td>NaN</td>\n",
       "      <td>1</td>\n",
       "      <td>1</td>\n",
       "      <td>polskibus</td>\n",
       "      <td>10</td>\n",
       "    </tr>\n",
       "    <tr>\n",
       "      <td>12210105</td>\n",
       "      <td>Ask HN: Looking for Employee #3 How do I do it?</td>\n",
       "      <td>NaN</td>\n",
       "      <td>1</td>\n",
       "      <td>3</td>\n",
       "      <td>sph130</td>\n",
       "      <td>14</td>\n",
       "    </tr>\n",
       "    <tr>\n",
       "      <td>10394168</td>\n",
       "      <td>Ask HN: Someone offered to buy my browser exte...</td>\n",
       "      <td>NaN</td>\n",
       "      <td>28</td>\n",
       "      <td>17</td>\n",
       "      <td>roykolak</td>\n",
       "      <td>16</td>\n",
       "    </tr>\n",
       "  </tbody>\n",
       "</table>\n",
       "</div>"
      ],
      "text/plain": [
       "                                                      title  url  num_points  \\\n",
       "id                                                                             \n",
       "12296411        Ask HN: How to improve my personal website?  NaN           2   \n",
       "10610020  Ask HN: Am I the only one outraged by Twitter ...  NaN          28   \n",
       "11610310  Ask HN: Aby recent changes to CSS that broke m...  NaN           1   \n",
       "12210105    Ask HN: Looking for Employee #3 How do I do it?  NaN           1   \n",
       "10394168  Ask HN: Someone offered to buy my browser exte...  NaN          28   \n",
       "\n",
       "          num_comments        author created_at  \n",
       "id                                               \n",
       "12296411             6  ahmedbaracat         09  \n",
       "10610020            29          tkfx         13  \n",
       "11610310             1     polskibus         10  \n",
       "12210105             3        sph130         14  \n",
       "10394168            17      roykolak         16  "
      ]
     },
     "execution_count": 7,
     "metadata": {},
     "output_type": "execute_result"
    }
   ],
   "source": [
    "ask_posts.loc[:,'created_at']=ask_posts.created_at.dt.strftime('%H') #formatting date into hour \n",
    "ask_posts.head()"
   ]
  },
  {
   "cell_type": "markdown",
   "metadata": {},
   "source": [
    "We can see that the 'created_at' column is transfromed into hour. Now we will calcualte the average number of comments an ask posts recives by hours and plot it in graph."
   ]
  },
  {
   "cell_type": "code",
   "execution_count": 8,
   "metadata": {
    "scrolled": true
   },
   "outputs": [
    {
     "data": {
      "image/png": "[encoded data removed]",
      "text/plain": [
       "<Figure size 432x288 with 1 Axes>"
      ]
     },
     "metadata": {
      "needs_background": "light"
     },
     "output_type": "display_data"
    }
   ],
   "source": [
    "import matplotlib.pyplot as plt\n",
    "%matplotlib inline\n",
    "plt.plot(ask_posts.groupby('created_at').num_comments.mean())\n",
    "plt.xticks(rotation=90)\n",
    "plt.title('Number of comments received by hours',fontsize=20)\n",
    "plt.xlabel('Hours',fontsize=16)\n",
    "plt.ylabel('Comments',fontsize=16)\n",
    "plt.show()"
   ]
  },
  {
   "cell_type": "markdown",
   "metadata": {},
   "source": [
    "## Conclusion\n",
    "\n",
    "In this project, we analyzed ask posts and show posts to determine which type of post and time receive the most comments on average. Based on our analysis, to maximize the amount of comments a post receives, we'd recommend the post be categorized as ask post and created between 15:00 and 16:00 (3:00 pm est - 4:00 pm est).\n",
    "\n",
    "However, it should be noted that the data set we analyzed excluded posts without any comments. Given that, it's more accurate to say that of the posts that received comments, ask posts received more comments on average and ask posts created between 15:00 and 16:00 (3:00 pm est - 4:00 pm est) received the most comments on average."
   ]
  }
 ],
 "metadata": {
  "kernelspec": {
   "display_name": "Python 3",
   "language": "python",
   "name": "python3"
  },
  "language_info": {
   "codemirror_mode": {
    "name": "ipython",
    "version": 3
   },
   "file_extension": ".py",
   "mimetype": "text/x-python",
   "name": "python",
   "nbconvert_exporter": "python",
   "pygments_lexer": "ipython3",
   "version": "3.7.4"
  }
 },
 "nbformat": 4,
 "nbformat_minor": 2
}
